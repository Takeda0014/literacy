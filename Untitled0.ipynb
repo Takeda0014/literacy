{
  "nbformat": 4,
  "nbformat_minor": 0,
  "metadata": {
    "colab": {
      "provenance": [],
      "authorship_tag": "ABX9TyPnl+8qu0sq4odpx3HH8sl8",
      "include_colab_link": true
    },
    "kernelspec": {
      "name": "python3",
      "display_name": "Python 3"
    },
    "language_info": {
      "name": "python"
    }
  },
  "cells": [
    {
      "cell_type": "markdown",
      "metadata": {
        "id": "view-in-github",
        "colab_type": "text"
      },
      "source": [
        "<a href=\"https://colab.research.google.com/github/Takeda0014/literacy/blob/main/Untitled0.ipynb\" target=\"_parent\"><img src=\"https://colab.research.google.com/assets/colab-badge.svg\" alt=\"Open In Colab\"/></a>"
      ]
    },
    {
      "cell_type": "markdown",
      "source": [
        "24g3087 竹田翔吾"
      ],
      "metadata": {
        "id": "ipyK2ZyVpmns"
      }
    },
    {
      "cell_type": "markdown",
      "source": [
        "**課題** 解の公式についての，次の記述を再現せよ．  \n",
        "$ax^2+bx+c=0(a≠0)$を満たす$x$は  \n",
        "\n",
        "$$x=\\frac{-b\\pm\\sqrt{b^2-4ac}}{2a}.$$\n",
        "\n"
      ],
      "metadata": {
        "id": "4fJjAuTnjbYu"
      }
    },
    {
      "cell_type": "markdown",
      "source": [
        "**課題** 和についての，次を記述を再現せよ．  \n",
        "$$\\sum\\limits_{i=1}^n a_i=a_{1}+a_{2}⋯+a_{n}.$$"
      ],
      "metadata": {
        "id": "wdA1DM8Bq-Vy"
      }
    },
    {
      "cell_type": "code",
      "source": [],
      "metadata": {
        "id": "y0tqXKppr-Z6"
      },
      "execution_count": null,
      "outputs": []
    },
    {
      "cell_type": "code",
      "source": [],
      "metadata": {
        "id": "SdTA-ekcr6xI"
      },
      "execution_count": null,
      "outputs": []
    }
  ]
}